{
 "cells": [
  {
   "cell_type": "markdown",
   "id": "d0b5969a",
   "metadata": {},
   "source": [
    "# OTP verification system"
   ]
  },
  {
   "cell_type": "code",
   "execution_count": 3,
   "id": "903b9847",
   "metadata": {},
   "outputs": [
    {
     "name": "stdout",
     "output_type": "stream",
     "text": [
      "Enter your email address: bhanu8krishna@gmail.com\n",
      "OTP sent successfully to bhanu8krishna@gmail.com\n",
      "Enter the OTP you received: 822610\n",
      "Access granted.\n"
     ]
    }
   ],
   "source": [
    "import random\n",
    "import smtplib\n",
    "\n",
    "\n",
    "def generate_otp():\n",
    "    \"\"\"Generates a 6-digit OTP.\"\"\"\n",
    "    return random.randint(100000, 999999)\n",
    "\n",
    "def send_otp_email(otp, to_email):\n",
    "    #Sends the OTP to the user's email address\n",
    "    from_email = \"bhanu8krishna@gmail.com\" \n",
    "    from_password = \"wysr ejda zfjr vgkw\"  \n",
    "\n",
    "    # Create the email content\n",
    "    subject = \"Your OTP Code\"\n",
    "    body = f\"Your OTP code is {otp}.\"\n",
    "    message = f\"Subject: {subject}\\n\\n{body}\"\n",
    "\n",
    "    try:\n",
    "        #SMTP server and login\n",
    "        server = smtplib.SMTP('smtp.gmail.com', 587)\n",
    "        server.starttls()\n",
    "        server.login(from_email, from_password)\n",
    "\n",
    "        # Send the email\n",
    "        server.sendmail(from_email, to_email, message)\n",
    "\n",
    "        # Quit the server\n",
    "        server.quit()\n",
    "        print(f\"OTP sent successfully to {to_email}\")\n",
    "    except Exception as e:\n",
    "        print(f\"Failed to send OTP: {str(e)}\")\n",
    "\n",
    "def enter_the_otp():\n",
    "    \"\"\"Prompts the user to enter the OTP received.\"\"\"\n",
    "    return input(\"Enter the OTP you received: \")\n",
    "\n",
    "def verify_otp(generated_otp, entered_otp):\n",
    "    \"\"\"Verifies if the entered OTP matches the generated OTP.\"\"\"\n",
    "    return generated_otp == int(entered_otp)\n",
    "\n",
    "def main():\n",
    "    email = input(\"Enter your email address: \")\n",
    "    generated_otp = generate_otp()\n",
    "    send_otp_email(generated_otp, email)\n",
    "    \n",
    "    for _ in range(3):  # Allow up to 3 attempts to enter the correct OTP\n",
    "        entered_otp = enter_the_otp()\n",
    "        if verify_otp(generated_otp, entered_otp):\n",
    "            print(\"Access granted.\") #If the entered OTP is correct then Access granted\n",
    "            return\n",
    "        else:\n",
    "            print(\"Invalid OTP. Please try again.\")\n",
    "    \n",
    "    print(\"Access denied. Too many failed attempts.\")\n",
    "\n",
    "if __name__ == \"__main__\":\n",
    "    main()\n"
   ]
  },
  {
   "cell_type": "code",
   "execution_count": null,
   "id": "1919ddaf",
   "metadata": {},
   "outputs": [],
   "source": []
  }
 ],
 "metadata": {
  "kernelspec": {
   "display_name": "Python 3 (ipykernel)",
   "language": "python",
   "name": "python3"
  },
  "language_info": {
   "codemirror_mode": {
    "name": "ipython",
    "version": 3
   },
   "file_extension": ".py",
   "mimetype": "text/x-python",
   "name": "python",
   "nbconvert_exporter": "python",
   "pygments_lexer": "ipython3",
   "version": "3.9.13"
  }
 },
 "nbformat": 4,
 "nbformat_minor": 5
}
